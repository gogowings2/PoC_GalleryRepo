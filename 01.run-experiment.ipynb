{
  "cells": [
    {
      "metadata": {},
      "cell_type": "markdown",
      "source": "Copyright (c) Microsoft Corporation. All rights reserved.\n\nLicensed under the MIT License."
    },
    {
      "metadata": {},
      "cell_type": "markdown",
      "source": "## Introduction to Azure Machine Learning service: Run experiment\n\nIn this example, you'll learn how to use Azure Machine Learning for experimentation.\n\nFirst, let's load your workspace and create an experiment. When you run *ws = Workspace.from_config()* below, you will be prompted to log in to your Azure subscription using a device code. Once you are connected to your workspace in Azure cloud, you can start experimenting.\n\nThe workspace is an Azure resource that contains your experiments, models, deployments and remote compute resources, and the experiment is a container that you use to track and organize your runs."
    },
    {
      "metadata": {
        "trusted": true
      },
      "cell_type": "code",
      "source": "!az account show",
      "execution_count": 5,
      "outputs": [
        {
          "output_type": "stream",
          "text": "{\r\n  \"environmentName\": \"AzureCloud\",\r\n  \"id\": \"1baa1f3f-9b61-4f60-9da8-3a76ba416716\",\r\n  \"isDefault\": true,\r\n  \"name\": \"Cosmos_OPG_Office365_BPOS_100119\",\r\n  \"state\": \"Enabled\",\r\n  \"tenantId\": \"72f988bf-86f1-41af-91ab-2d7cd011db47\",\r\n  \"user\": {\r\n    \"name\": \"andyxu@microsoft.com\",\r\n    \"type\": \"user\"\r\n  }\r\n}\r\n",
          "name": "stdout"
        }
      ]
    },
    {
      "metadata": {
        "trusted": true
      },
      "cell_type": "code",
      "source": "from azureml.core import Workspace, Experiment, Run\nimport math, random, pickle",
      "execution_count": 6,
      "outputs": []
    },
    {
      "metadata": {
        "trusted": true
      },
      "cell_type": "code",
      "source": "ws = Workspace.from_config()\nprint(ws)",
      "execution_count": 7,
      "outputs": [
        {
          "output_type": "stream",
          "text": "Found the config file in: /home/nbuser/library/config.json\n<azureml.core.workspace.Workspace object at 0x7fd4d3383a20>\n",
          "name": "stdout"
        }
      ]
    },
    {
      "metadata": {
        "trusted": true
      },
      "cell_type": "code",
      "source": "print(ws.subscription_id)\nprint(ws.resource_group)\n\nws_list = Workspace.list(ws.subscription_id)\nprint(ws_list)",
      "execution_count": 11,
      "outputs": [
        {
          "output_type": "stream",
          "text": "bc69d98c-7d2b-4542-88a4-f86eb4aea4a5\nUSEastGroup_AX\n{'aidemosdevaml': [<azureml.core.workspace.Workspace object at 0x7fd4d0903eb8>], 'aidemos': [<azureml.core.workspace.Workspace object at 0x7fd4d0851940>], 'jehyrkas-test': [<azureml.core.workspace.Workspace object at 0x7fd4d08519b0>], 'mtw1920ccc74a8a45879': [<azureml.core.workspace.Workspace object at 0x7fd4d0851198>], 'mtw1b1a1a9f3c354180b': [<azureml.core.workspace.Workspace object at 0x7fd4d0851208>], 'aml_hack_ps': [<azureml.core.workspace.Workspace object at 0x7fd4d0851908>], 'automl_scikit': [<azureml.core.workspace.Workspace object at 0x7fd4d0851da0>], 'bugbash_ws1204': [<azureml.core.workspace.Workspace object at 0x7fd4d0851b38>], 'hyperdrive_scikit': [<azureml.core.workspace.Workspace object at 0x7fd4d0851358>], 'pyspark_ws1304': [<azureml.core.workspace.Workspace object at 0x7fd4d0851080>], 'GalleryTestWorkSpace': [<azureml.core.workspace.Workspace object at 0x7fd4d08510b8>], 'AutoML': [<azureml.core.workspace.Workspace object at 0x7fd4d0851278>], 'automl5': [<azureml.core.workspace.Workspace object at 0x7fd4d0851240>, <azureml.core.workspace.Workspace object at 0x7fd4d08513c8>], 'mtw80ae84bacbdb46b99': [<azureml.core.workspace.Workspace object at 0x7fd4d0851dd8>], 'dev-devopsforaidemos': [<azureml.core.workspace.Workspace object at 0x7fd4d0851a90>], 'esbatchai': [<azureml.core.workspace.Workspace object at 0x7fd4d0851a20>], 'mtw002103d48d3a4ad4b': [<azureml.core.workspace.Workspace object at 0x7fd4d0851a58>], 'mtw0493478e1eb64836a': [<azureml.core.workspace.Workspace object at 0x7fd4d0851128>], 'mtweb714aefd3244f5e8': [<azureml.core.workspace.Workspace object at 0x7fd4d0851ac8>], 'gews': [<azureml.core.workspace.Workspace object at 0x7fd4d0851be0>], 'jedws': [<azureml.core.workspace.Workspace object at 0x7fd4d08518d0>], 'jedwspipe': [<azureml.core.workspace.Workspace object at 0x7fd4d0848b00>], 'joelws': [<azureml.core.workspace.Workspace object at 0x7fd4d0848cc0>], 'jordanedemo': [<azureml.core.workspace.Workspace object at 0x7fd4d0848860>], 'my_workspacepup': [<azureml.core.workspace.Workspace object at 0x7fd4d0848dd8>], 'OXO-ML-Sample-WS': [<azureml.core.workspace.Workspace object at 0x7fd4d0848e48>], 'oxoml': [<azureml.core.workspace.Workspace object at 0x7fd4d08b84a8>], 'mtw2d4d04bccc3b4c4fa': [<azureml.core.workspace.Workspace object at 0x7fd4d08b8860>], 'shelldemo': [<azureml.core.workspace.Workspace object at 0x7fd4d085c630>], 'ax_test_ws': [<azureml.core.workspace.Workspace object at 0x7fd4d085cba8>]}\n",
          "name": "stdout"
        }
      ]
    },
    {
      "metadata": {
        "trusted": true
      },
      "cell_type": "code",
      "source": "experiment = Experiment(workspace_object=ws, name = \"my-first-experiment\")",
      "execution_count": 5,
      "outputs": []
    },
    {
      "metadata": {},
      "cell_type": "markdown",
      "source": "Next, let's start an experiment run. We use Monte Carlo simulation to estimate pi as a simple example. While the experiment is running, metrics about the accuracy of the estimate are logged into run history.\n\nLet's also save the value as a file into run history. In the next notebook we'll use this file to create a web service that computes an area of a circle using our estimate."
    },
    {
      "metadata": {
        "trusted": true
      },
      "cell_type": "code",
      "source": "run = experiment.start_logging()\n\npi_counter = 0\nn_iter = 100000\n\n# Log total number of iterations\nrun.log(\"Number of iterations\",n_iter)\n\nfor i in range(1,n_iter):\n    # Monte Carlo step to update estimate\n    x = random.random()\n    y = random.random()\n    if x*x + y*y < 1.0:\n        pi_counter += 1\n    pi_estimate = 4.0*pi_counter / i\n    \n    # Log convergence every 10000 iterations\n    if i%10000==0:\n        error = math.pi-pi_estimate\n        run.log(\"Pi estimate\",pi_estimate)\n        run.log(\"Error\",error)\n\n# Log final results\nrun.log(\"Final estimate: \",pi_estimate)\nrun.log(\"Final error: \",math.pi-pi_estimate)\n\n# Write file containing pi value into run history\nwith open(\"pi_estimate.txt\",\"wb\") as f:\n    pickle.dump(str(pi_estimate),f)\nrun.upload_file(name = 'outputs/pi_estimate.txt', path_or_stream = './pi_estimate.txt')\n\n# Complete tracking and get link to details\nrun.complete()",
      "execution_count": 6,
      "outputs": []
    },
    {
      "metadata": {},
      "cell_type": "markdown",
      "source": "Once the run has completed, you can view a detailed report of the run from Azure Portal by simply calling \"run\" and following the link."
    },
    {
      "metadata": {
        "trusted": true
      },
      "cell_type": "code",
      "source": "run",
      "execution_count": 7,
      "outputs": [
        {
          "output_type": "stream",
          "text": "WARNING:root:URL is not final public url\n",
          "name": "stderr"
        },
        {
          "output_type": "execute_result",
          "execution_count": 7,
          "data": {
            "text/html": "<table style=\"width:100%\"><tr><th>Experiment</th><th>Id</th><th>Type</th><th>Status</th><th>Details Page</th></tr><tr><td>my-first-experiment</td><td>4f4a5891-04e6-459b-87d8-b4f69547ba4e</td><td></td><td>Completed</td><td><a href=\"https://mlworkspace.azureml-test.net/portal/subscriptions/bc69d98c-7d2b-4542-88a4-f86eb4aea4a5/resourceGroups/USEastGroup_AX/providers/Microsoft.MachineLearningServices/workspaces/ax_test_ws/history/my-first-experiment/runs/4f4a5891-04e6-459b-87d8-b4f69547ba4e\" target=\"_blank\">Link to Azure Portal</a></td></tr></table>",
            "text/plain": "Run(Experiment: my-first-experiment,\nId: 4f4a5891-04e6-459b-87d8-b4f69547ba4e,\nType: None,\nStatus: Completed)"
          },
          "metadata": {}
        }
      ]
    },
    {
      "metadata": {},
      "cell_type": "markdown",
      "source": "Next, learn how to deploy a web service that computes the area of circle using your estimate using following Notebook:\n\n[Deploy web service](02.deploy-web-service.ipynb)"
    },
    {
      "metadata": {
        "trusted": false
      },
      "cell_type": "code",
      "source": "",
      "execution_count": null,
      "outputs": []
    }
  ],
  "metadata": {
    "kernelspec": {
      "name": "python36",
      "display_name": "Python 3.6",
      "language": "python"
    },
    "language_info": {
      "mimetype": "text/x-python",
      "nbconvert_exporter": "python",
      "name": "python",
      "pygments_lexer": "ipython3",
      "version": "3.6.6",
      "file_extension": ".py",
      "codemirror_mode": {
        "version": 3,
        "name": "ipython"
      }
    }
  },
  "nbformat": 4,
  "nbformat_minor": 2
}