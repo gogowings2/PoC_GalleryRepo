{
  "cells": [
    {
      "metadata": {},
      "cell_type": "markdown",
      "source": "Copyright (c) Microsoft Corporation. All rights reserved.\n\nLicensed under the MIT License."
    },
    {
      "metadata": {},
      "cell_type": "markdown",
      "source": "## Introduction to Azure Machine Learning: Deploy web service\n\nIn previous example, you ran an experiment to estimate value of pi. In this example, we'll go a step further and use your estimated value to create a web service that computes the area of a circle in a real time.\n\nFirst, let's load the workspace, and retrieve the latest run from your experiment."
    },
    {
      "metadata": {
        "trusted": true
      },
      "cell_type": "code",
      "source": "from azureml.core import Workspace, Experiment, Run\nimport math, random, pickle",
      "execution_count": 1,
      "outputs": []
    },
    {
      "metadata": {
        "trusted": true
      },
      "cell_type": "code",
      "source": "ws = Workspace.from_config()",
      "execution_count": 2,
      "outputs": [
        {
          "output_type": "stream",
          "text": "Found the config file in: /home/nbuser/library/config.json\n",
          "name": "stdout"
        }
      ]
    },
    {
      "metadata": {
        "trusted": true
      },
      "cell_type": "code",
      "source": "experiment_name = \"my-first-experiment\"\nrun = list(Experiment(workspace_object = ws, name = experiment_name).get_runs())[0]",
      "execution_count": 3,
      "outputs": []
    },
    {
      "metadata": {},
      "cell_type": "markdown",
      "source": "In the previous example you saved a file containing the pi value into run history. Let's register that file as a model: a versioned asset in your workspace that is used to build web services."
    },
    {
      "metadata": {
        "trusted": true
      },
      "cell_type": "code",
      "source": "model = run.register_model(model_name = \"pi_estimate\", model_path = \"outputs/pi_estimate.txt\")",
      "execution_count": 4,
      "outputs": []
    },
    {
      "metadata": {},
      "cell_type": "markdown",
      "source": "In order to deploy a web service, you'll also need to create a scoring script that consists of two parts: an *init* method that loads the model, and a *run* method that gets invoked when you call the web service."
    },
    {
      "metadata": {
        "trusted": true
      },
      "cell_type": "code",
      "source": "%%writefile score.py\nimport pickle, json\nfrom azureml.core.model import Model\n\ndef init():\n    global pi_estimate\n    model_path = Model.get_model_path(model_name = \"pi_estimate\")\n    with open(model_path, \"rb\") as f:\n        pi_estimate = float(pickle.load(f))\n\ndef run(raw_data):\n    try:\n        radius = json.loads(raw_data)[\"radius\"]\n        result = pi_estimate * radius**2\n        return json.dumps({\"area\": result})\n    except Exception as e:\n        result = str(e)\n        return json.dumps({\"error\": result})",
      "execution_count": 5,
      "outputs": [
        {
          "output_type": "stream",
          "text": "Writing score.py\n",
          "name": "stdout"
        }
      ]
    },
    {
      "metadata": {},
      "cell_type": "markdown",
      "source": "You also need to specify the library dependencies of your scoring script as conda yml file. Let's simply use Azure ML's default dependencies."
    },
    {
      "metadata": {
        "trusted": true
      },
      "cell_type": "code",
      "source": "from azureml.core.conda_dependencies import CondaDependencies \n\nCondaDependencies().save_to_file(\".\", \"myenv.yml\")",
      "execution_count": 6,
      "outputs": [
        {
          "output_type": "execute_result",
          "execution_count": 6,
          "data": {
            "text/plain": "'myenv.yml'"
          },
          "metadata": {}
        }
      ]
    },
    {
      "metadata": {},
      "cell_type": "markdown",
      "source": "Then, let's deploy the web service on Azure Container Instance: a serverless compute for running Docker images. Azure ML service takes care of packaging your model, scoring script and dependencies into Docker image and deploying it."
    },
    {
      "metadata": {
        "trusted": true
      },
      "cell_type": "code",
      "source": "from azureml.core.webservice import AciWebservice, Webservice\nfrom azureml.core.image import ContainerImage\n\naci_config = AciWebservice.deploy_configuration(cpu_cores = 1, memory_gb = 1)\n\n\nimage_config = ContainerImage.image_configuration(execution_script = \"score.py\", \n                                    runtime = \"python\", \n                                    conda_file = \"myenv.yml\")\n\nservice = Webservice.deploy_from_model(name = \"area-calculator\",\n                                       deployment_config = aci_config,\n                                       models = [model],\n                                       image_config = image_config,\n                                       workspace = ws)\nservice.wait_for_deployment(show_output = True)",
      "execution_count": 7,
      "outputs": [
        {
          "output_type": "stream",
          "text": "Creating image\nImage creation operation finished for image area-calculator:1, operation \"Succeeded\"\nCreating service\nRunning.....................................\nSucceededACI service creation operation finished, operation \"Succeeded\"\n",
          "name": "stdout"
        }
      ]
    },
    {
      "metadata": {},
      "cell_type": "markdown",
      "source": "You can try out the web service by passing in data as json-formatted request. Run the cell below and move the slider around to see real-time responses."
    },
    {
      "metadata": {
        "trusted": true
      },
      "cell_type": "code",
      "source": "from ipywidgets import interact\n\ndef get_area(radius):\n    request = json.dumps({\"radius\": radius})\n    response = service.run(input_data = request)\n    return json.loads(response)[\"area\"]\n\ninteract(get_area,radius=(0,10))",
      "execution_count": 8,
      "outputs": [
        {
          "output_type": "display_data",
          "data": {
            "application/vnd.jupyter.widget-view+json": {
              "model_id": "6f892dc522c64bba82022871d0e3ae29",
              "version_minor": 0,
              "version_major": 2
            },
            "text/plain": "interactive(children=(IntSlider(value=5, description='radius', max=10), Output()), _dom_classes=('widget-inter…"
          },
          "metadata": {}
        },
        {
          "output_type": "execute_result",
          "execution_count": 8,
          "data": {
            "text/plain": "<function __main__.get_area>"
          },
          "metadata": {}
        }
      ]
    },
    {
      "metadata": {},
      "cell_type": "markdown",
      "source": "Finally, delete the web service once you're done"
    },
    {
      "metadata": {
        "trusted": true
      },
      "cell_type": "code",
      "source": "service.delete()",
      "execution_count": 9,
      "outputs": []
    },
    {
      "metadata": {},
      "cell_type": "markdown",
      "source": "As your next step, take a look at the more detailed tutorial for building an image classification model using Azure Machine Learning service."
    },
    {
      "metadata": {
        "trusted": false
      },
      "cell_type": "code",
      "source": "",
      "execution_count": null,
      "outputs": []
    }
  ],
  "metadata": {
    "kernelspec": {
      "name": "python36",
      "display_name": "Python 3.6",
      "language": "python"
    },
    "language_info": {
      "mimetype": "text/x-python",
      "nbconvert_exporter": "python",
      "name": "python",
      "pygments_lexer": "ipython3",
      "version": "3.6.3",
      "file_extension": ".py",
      "codemirror_mode": {
        "version": 3,
        "name": "ipython"
      }
    }
  },
  "nbformat": 4,
  "nbformat_minor": 2
}